{
 "cells": [
  {
   "cell_type": "code",
   "execution_count": null,
   "metadata": {},
   "outputs": [],
   "source": [
    "# from cmsisdsp import arm_float_to_q15, arm_cos_f32, arm_sin_f32, arm_mult_q15, arm_rfft_q15, arm_cmplx_mag_q15, arm_rfft_instance_q15, arm_rfft_init_q15\n",
    "from cmsisdsp import arm_float_to_q31, arm_cos_f32, arm_sin_f32, arm_mult_q31, arm_rfft_q31, arm_cmplx_mag_q31, arm_rfft_instance_q31, arm_rfft_init_q31\n",
    "from scipy.io import wavfile\n",
    "import numpy as np\n",
    "import matplotlib.pyplot as plt"
   ]
  },
  {
   "cell_type": "code",
   "execution_count": null,
   "metadata": {},
   "outputs": [],
   "source": [
    "audio_sample_rate, audio_samples = wavfile.read(f'dataset/wavfiles/13609-0.wav')\n",
    "\n",
    "PI = 3.141592653589793\n",
    "\n",
    "# Putting this all together\n",
    "window_size = 256\n",
    "step_size = 128\n",
    "\n",
    "# Convert the audio to q31\n",
    "audio_samples_q31 = arm_float_to_q31(audio_samples)\n",
    "\n",
    "# Calculate the number of windows\n",
    "number_of_windows = int(1 + (audio_sample_rate - window_size) // step_size)\n",
    "\n",
    "# Calculate the FFT Output size\n",
    "fft_size = int(window_size // 2 + 1)\n",
    "\n",
    "# Create an empty array to hold the Spectrogram\n",
    "spectrogram_q31 = np.empty((number_of_windows, fft_size))\n",
    "\n",
    "start_index = 0\n",
    "\n",
    "\n",
    "# ! CREATE HANNING WINDOW\n",
    "hanning_window_f32 = np.zeros(window_size)\n",
    "\n",
    "for i in range(window_size):\n",
    "\thanning_window_f32[i] = 0.5 * (1 - arm_cos_f32(2 * PI * i / window_size ))\n",
    "\n",
    "hanning_window_q31 = arm_float_to_q31(hanning_window_f32)\n",
    "\n",
    "# ! Initialize the FFT instance\n",
    "rfft_instance_q31 = arm_rfft_instance_q31()\n",
    "status = arm_rfft_init_q31(rfft_instance_q31, window_size, 0, 1)\n",
    "\n",
    "\n",
    "# Apply hanning window and apply fft\n",
    "for index in range(number_of_windows):\n",
    "\t# Take the window from the waveform.\n",
    "\taudio_window_q31 = audio_samples_q31[start_index:start_index + window_size]\n",
    "\n",
    "\t# Apply the Hanning Window.\n",
    "\tprocessed_audio_q31 = arm_mult_q31(audio_window_q31, hanning_window_q31)\n",
    "\n",
    "\t# Calculate the FFT\n",
    "\trfft_q31 = arm_rfft_q31(rfft_instance_q31, processed_audio_q31)\n",
    "\n",
    "\t# Take the absolute value of the FFT and add to the Spectrogram.\n",
    "\trfft_mag_q31 = arm_cmplx_mag_q31(rfft_q31)[:fft_size]\n",
    "\n",
    "\tspectrogram_q31[index] = rfft_mag_q31\n",
    "\n",
    "\t# Increase the start index of the window by the overlap amount.\n",
    "\tstart_index += step_size\n",
    "\n",
    "\n",
    "#print(spectrogram_q31[10])\n",
    "# print(spectrogram_q31.shape)\n",
    "\n",
    "plt.imshow(spectrogram_q31)\n",
    "plt.colorbar()\n",
    "plt.show()"
   ]
  }
 ],
 "metadata": {
  "kernelspec": {
   "display_name": ".venv",
   "language": "python",
   "name": "python3"
  },
  "language_info": {
   "codemirror_mode": {
    "name": "ipython",
    "version": 3
   },
   "file_extension": ".py",
   "mimetype": "text/x-python",
   "name": "python",
   "nbconvert_exporter": "python",
   "pygments_lexer": "ipython3",
   "version": "3.11.8"
  }
 },
 "nbformat": 4,
 "nbformat_minor": 2
}
